{
 "cells": [
  {
   "cell_type": "code",
   "execution_count": 60,
   "id": "2196ff59",
   "metadata": {},
   "outputs": [],
   "source": [
    "import time\n",
    "\n",
    "from pysinewave import SineWave\n",
    "\n",
    "import serial\n",
    "\n",
    "import numpy as np\n",
    "import math\n",
    "\n",
    "%matplotlib widget\n",
    "import matplotlib.pyplot as plt"
   ]
  },
  {
   "cell_type": "markdown",
   "id": "726df55f-6afd-4efe-bcf7-d34d5ff0d6b2",
   "metadata": {},
   "source": [
    "Search for COM-Ports and list them"
   ]
  },
  {
   "cell_type": "code",
   "execution_count": 48,
   "id": "3b1608e4",
   "metadata": {},
   "outputs": [
    {
     "name": "stdout",
     "output_type": "stream",
     "text": [
      "COM7                \n",
      "1 ports found\n"
     ]
    }
   ],
   "source": [
    "import subprocess\n",
    "cmd = \"python -m serial.tools.list_ports\"\n",
    "p = subprocess.Popen(cmd, shell=True, stdout=subprocess.PIPE, stderr=subprocess.STDOUT)\n",
    "for line in p.stdout.readlines():\n",
    "    print(line.decode(\"UTF-8\").rstrip(\"\\n\"))"
   ]
  },
  {
   "cell_type": "markdown",
   "id": "6acfade2-07bf-43c7-8b0b-bcfc5e11c8f2",
   "metadata": {},
   "source": [
    "\n",
    "\n",
    "Connect to COM-Port"
   ]
  },
  {
   "cell_type": "code",
   "execution_count": 52,
   "id": "6313bd94",
   "metadata": {
    "tags": []
   },
   "outputs": [
    {
     "name": "stdout",
     "output_type": "stream",
     "text": [
      "COM7 , True , CONRAD,DSO 4022,BK147048, V1.23\n",
      "\n"
     ]
    }
   ],
   "source": [
    "if(ser):\n",
    "    ser.close()\n",
    "ser = serial.Serial(\"COM7\", 9600, timeout = 1)\n",
    "\n",
    "#get firmware version\n",
    "ser.write(b'*idn?\\n')\n",
    "ver=ser.readline().decode(\"UTF-8\")\n",
    "\n",
    "print(ser.name + \" , \" + str(ser.is_open) + \" , \" + ver)"
   ]
  },
  {
   "cell_type": "markdown",
   "id": "0e1b461e-55ac-4abd-86fd-9da165cb1348",
   "metadata": {},
   "source": [
    "Generate a Sinwave with the headphone port,\n",
    "measure its frequency and amplitude,\n",
    "increase the frequency and repeat:"
   ]
  },
  {
   "cell_type": "code",
   "execution_count": null,
   "id": "c8180166",
   "metadata": {
    "tags": []
   },
   "outputs": [],
   "source": [
    "points = []\n",
    "\n",
    "sinewave = SineWave()\n",
    "sinewave.play()\n",
    "\n",
    "for frequency in range(0, 6000, 10):\n",
    "    sinewave.set_frequency(frequency)\n",
    "    ser.write(b':meas:sour 1\\n')\n",
    "    ser.write(b':meas:freq?\\n')\n",
    "    freq = ser.readline().decode(\"UTF-8\").rstrip(\"\\n\")\n",
    "    ser.write(b':meas:vamp?\\n')\n",
    "    amp = ser.readline().decode(\"UTF-8\").rstrip(\"\\n\")\n",
    "    if(freq != \"  ?\" and amp != \"  ?\"):\n",
    "        points.append([float(freq), float(amp)])\n",
    "\n",
    "sinewave.stop()"
   ]
  },
  {
   "cell_type": "markdown",
   "id": "a1229f36-21f4-4cd3-99b7-a0c9a0ee1444",
   "metadata": {},
   "source": [
    "Plot those values:"
   ]
  },
  {
   "cell_type": "code",
   "execution_count": null,
   "id": "c0bca886-afa4-487c-bb06-5fe4ce351e05",
   "metadata": {},
   "outputs": [],
   "source": [
    "plt.clf()\n",
    "\n",
    "x, y = np.array(points).T\n",
    "plt.plot(x, y, 'b-')\n",
    "\n",
    "plt.xlabel(\"frequency/Hz\")\n",
    "plt.ylabel(\"amplitude/V\")\n",
    "plt.gca().set_xlim([0,None])\n",
    "plt.gca().set_ylim([0,math.ceil(max(y))]) #y axis from 0 to next int of highest number\n",
    "\n",
    "plt.show()"
   ]
  },
  {
   "cell_type": "code",
   "execution_count": null,
   "id": "9f41d8c9-4138-49a7-95a3-614a5bcd3c25",
   "metadata": {},
   "outputs": [],
   "source": []
  }
 ],
 "metadata": {
  "kernelspec": {
   "display_name": "Python 3 (ipykernel)",
   "language": "python",
   "name": "python3"
  },
  "language_info": {
   "codemirror_mode": {
    "name": "ipython",
    "version": 3
   },
   "file_extension": ".py",
   "mimetype": "text/x-python",
   "name": "python",
   "nbconvert_exporter": "python",
   "pygments_lexer": "ipython3",
   "version": "3.9.7"
  }
 },
 "nbformat": 4,
 "nbformat_minor": 5
}
