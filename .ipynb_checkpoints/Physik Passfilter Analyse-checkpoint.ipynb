{
 "cells": [
  {
   "cell_type": "code",
   "execution_count": 1,
   "id": "2196ff59",
   "metadata": {},
   "outputs": [],
   "source": [
    "import time\n",
    "from pysinewave import SineWave\n",
    "import serial\n",
    "import numpy as np\n",
    "import math\n",
    "from tqdm import tqdm\n",
    "%matplotlib widget\n",
    "import matplotlib.pyplot as plt\n",
    "\n",
    "freq_start = 0\n",
    "freq_end = 10000\n",
    "freq_step = 100"
   ]
  },
  {
   "cell_type": "markdown",
   "id": "726df55f-6afd-4efe-bcf7-d34d5ff0d6b2",
   "metadata": {},
   "source": [
    "Search for COM-Ports and list them:"
   ]
  },
  {
   "cell_type": "code",
   "execution_count": 2,
   "id": "3b1608e4",
   "metadata": {},
   "outputs": [
    {
     "name": "stdout",
     "output_type": "stream",
     "text": [
      "COM7                \n",
      "1 ports found\n"
     ]
    }
   ],
   "source": [
    "import subprocess\n",
    "cmd = \"python -m serial.tools.list_ports\"\n",
    "p = subprocess.Popen(cmd, shell=True, stdout=subprocess.PIPE, stderr=subprocess.STDOUT)\n",
    "for line in p.stdout.readlines():\n",
    "    print(line.decode(\"UTF-8\").rstrip(\"\\n\"))"
   ]
  },
  {
   "cell_type": "markdown",
   "id": "6acfade2-07bf-43c7-8b0b-bcfc5e11c8f2",
   "metadata": {},
   "source": [
    "Connect to COM-Port:"
   ]
  },
  {
   "cell_type": "code",
   "execution_count": 3,
   "id": "6313bd94",
   "metadata": {
    "tags": []
   },
   "outputs": [
    {
     "name": "stdout",
     "output_type": "stream",
     "text": [
      "COM7 , True , CONRAD,DSO 4022,BK147048, V1.23\n",
      "\n"
     ]
    }
   ],
   "source": [
    "if(\"ser\" in locals()):\n",
    "    ser.close()\n",
    "ser = serial.Serial(\"COM7\", 9600, timeout = 1)\n",
    "\n",
    "#get firmware version\n",
    "ser.write(b'*idn?\\n')\n",
    "ver=ser.readline().decode(\"UTF-8\")\n",
    "\n",
    "print(ser.name + \" , \" + str(ser.is_open) + \" , \" + ver)"
   ]
  },
  {
   "cell_type": "markdown",
   "id": "0e1b461e-55ac-4abd-86fd-9da165cb1348",
   "metadata": {},
   "source": [
    "Generate a Sinwave with the headphone port,\n",
    "measure its frequency and amplitude,\n",
    "increase the frequency and repeat:"
   ]
  },
  {
   "cell_type": "code",
   "execution_count": 4,
   "id": "c8180166",
   "metadata": {
    "tags": []
   },
   "outputs": [
    {
     "name": "stderr",
     "output_type": "stream",
     "text": [
      "100%|████████████████████████████████████████████████████████████████████████████████| 100/100 [02:47<00:00,  1.67s/it]\n"
     ]
    }
   ],
   "source": [
    "points1, points2 = [], []\n",
    "\n",
    "if(\"sinewave\" in locals()):\n",
    "    sinewave.stop()\n",
    "sinewave = SineWave(pitch_per_second = 1000) #lib wants to transition smoothly between pitches, which i DON'T\n",
    "sinewave.play()\n",
    "\n",
    "for frequency in tqdm(range(freq_start, freq_end, freq_step)):\n",
    "    sinewave.set_frequency(frequency)\n",
    "    #channel 1\n",
    "    ser.write(b':meas:sour 1\\n')\n",
    "    ser.write(b':meas:freq?\\n')\n",
    "    freq1 = ser.readline().decode(\"UTF-8\").rstrip(\"\\n\")\n",
    "    ser.write(b':meas:vamp?\\n')\n",
    "    amp1 = ser.readline().decode(\"UTF-8\").rstrip(\"\\n\")\n",
    "    if(freq1 != \"  ?\" and amp1 != \"  ?\"):\n",
    "        points1.append([float(freq1), float(amp1)])\n",
    "    #channel 2\n",
    "    ser.write(b':meas:sour 2\\n')\n",
    "    ser.write(b':meas:freq?\\n')\n",
    "    freq2 = ser.readline().decode(\"UTF-8\").rstrip(\"\\n\")\n",
    "    ser.write(b':meas:vamp?\\n')\n",
    "    amp2 = ser.readline().decode(\"UTF-8\").rstrip(\"\\n\")\n",
    "    if(freq2 != \"  ?\" and amp2 != \"  ?\"):\n",
    "        points2.append([float(freq2), float(amp2)])\n",
    "\n",
    "sinewave.stop()"
   ]
  },
  {
   "cell_type": "markdown",
   "id": "a1229f36-21f4-4cd3-99b7-a0c9a0ee1444",
   "metadata": {},
   "source": [
    "Plot those values:"
   ]
  },
  {
   "cell_type": "code",
   "execution_count": 5,
   "id": "c0bca886-afa4-487c-bb06-5fe4ce351e05",
   "metadata": {},
   "outputs": [
    {
     "data": {
      "application/vnd.jupyter.widget-view+json": {
       "model_id": "0764d5af961f46eab54cd600e23689ed",
       "version_major": 2,
       "version_minor": 0
      },
      "image/png": "[encoded data removed]",
      "text/plain": [
       "Canvas(toolbar=Toolbar(toolitems=[('Home', 'Reset original view', 'home', 'home'), ('Back', 'Back to previous …"
      ]
     },
     "metadata": {},
     "output_type": "display_data"
    }
   ],
   "source": [
    "plt.clf()\n",
    "plt.xlabel(\"frequency/Hz\")\n",
    "plt.ylabel(\"amplitude/V\")\n",
    "\n",
    "x1, y1 = np.array(points1).T\n",
    "plt.plot(x1, y1, 'b-')\n",
    "\n",
    "x2, y2 = np.array(points2).T\n",
    "plt.plot(x2, y2, 'r-')\n",
    "\n",
    "plt.gca().set_xlim([freq_start,freq_end])\n",
    "plt.gca().set_ylim([0,math.ceil(max(y1))]) #y axis from 0 to next int of highest number\n",
    "\n",
    "plt.show()"
   ]
  }
 ],
 "metadata": {
  "kernelspec": {
   "display_name": "Python 3 (ipykernel)",
   "language": "python",
   "name": "python3"
  },
  "language_info": {
   "codemirror_mode": {
    "name": "ipython",
    "version": 3
   },
   "file_extension": ".py",
   "mimetype": "text/x-python",
   "name": "python",
   "nbconvert_exporter": "python",
   "pygments_lexer": "ipython3",
   "version": "3.9.7"
  }
 },
 "nbformat": 4,
 "nbformat_minor": 5
}
