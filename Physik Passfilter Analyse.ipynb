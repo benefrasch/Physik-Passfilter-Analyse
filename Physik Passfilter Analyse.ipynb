{
 "cells": [
  {
   "cell_type": "code",
   "execution_count": 48,
   "id": "2196ff59",
   "metadata": {},
   "outputs": [],
   "source": [
    "import time\n",
    "\n",
    "from pysinewave import SineWave\n",
    "\n",
    "import serial\n"
   ]
  },
  {
   "cell_type": "code",
   "execution_count": 46,
   "id": "c8180166",
   "metadata": {},
   "outputs": [],
   "source": [
    "#generate sinewave with increasing frequency\n",
    "sinewave.play()\n",
    "for frequency in range(50, 20000, 10):\n",
    "    sinewave.set_frequency(frequency)\n",
    "    time.sleep(0.001)\n",
    "\n",
    "sinewave.stop()"
   ]
  },
  {
   "cell_type": "code",
   "execution_count": 52,
   "id": "3e4c0540",
   "metadata": {},
   "outputs": [],
   "source": [
    "sinewave.stop()"
   ]
  },
  {
   "cell_type": "code",
   "execution_count": 58,
   "id": "3b1608e4",
   "metadata": {},
   "outputs": [
    {
     "name": "stdout",
     "output_type": "stream",
     "text": [
      "b'1 ports found\\r\\n'\n",
      "b'COM1                \\r\\n'\n"
     ]
    }
   ],
   "source": [
    "import subprocess\n",
    "cmd = \"python -m serial.tools.list_ports\"\n",
    "p = subprocess.Popen(cmd, shell=True, stdout=subprocess.PIPE, stderr=subprocess.STDOUT)\n",
    "for line in p.stdout.readlines():\n",
    "    print(line)"
   ]
  },
  {
   "cell_type": "code",
   "execution_count": 51,
   "id": "6313bd94",
   "metadata": {},
   "outputs": [
    {
     "name": "stdout",
     "output_type": "stream",
     "text": [
      "COM1\n"
     ]
    }
   ],
   "source": [
    "ser = serial.Serial(\"COM1\")\n",
    "print(ser.name)"
   ]
  }
 ],
 "metadata": {
  "kernelspec": {
   "display_name": "Python 3 (ipykernel)",
   "language": "python",
   "name": "python3"
  },
  "language_info": {
   "codemirror_mode": {
    "name": "ipython",
    "version": 3
   },
   "file_extension": ".py",
   "mimetype": "text/x-python",
   "name": "python",
   "nbconvert_exporter": "python",
   "pygments_lexer": "ipython3",
   "version": "3.9.7"
  }
 },
 "nbformat": 4,
 "nbformat_minor": 5
}
